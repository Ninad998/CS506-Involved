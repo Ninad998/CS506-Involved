{
 "cells": [
  {
   "cell_type": "markdown",
   "metadata": {},
   "source": [
    "## Research on Boston 311 Data"
   ]
  },
  {
   "cell_type": "code",
   "execution_count": null,
   "metadata": {},
   "outputs": [],
   "source": [
    "# Packages\n",
    "import numpy as np\n",
    "import pandas as pd\n",
    "\n",
    "import folium\n",
    "import plotly.plotly as py\n",
    "\n",
    "from datetime import datetime"
   ]
  },
  {
   "cell_type": "code",
   "execution_count": null,
   "metadata": {
    "scrolled": true
   },
   "outputs": [],
   "source": [
    "# Reading Boston 311 data\n",
    "bs_311_df = pd.read_csv('311.csv', encoding = \"ISO-8859-1\")"
   ]
  },
  {
   "cell_type": "code",
   "execution_count": null,
   "metadata": {},
   "outputs": [],
   "source": [
    "list(bs_311_df)"
   ]
  },
  {
   "cell_type": "code",
   "execution_count": null,
   "metadata": {},
   "outputs": [],
   "source": [
    "# Subject Wise Plot of the Issues:\n",
    "from datetime import datetime\n",
    "state_scope = 'Massachusetts'\n",
    "subject_wise = bs_311_df.groupby(['SUBJECT'])['Latitude', 'Longitude','SUBJECT']\n",
    "\"\"\"\n",
    "neighborhood = None\n",
    "case = None\n",
    "subject = None\n",
    "def sfdasf (asd ):\n",
    "\"\"\"\n",
    "\n",
    "for n,s in subject_wise:\n",
    "    case_wise = bs_311_df[bs_311_df['SUBJECT']==n].groupby(['CASE_TITLE'])\n",
    "#     print(n,case_wise.size())\n",
    "    for nc,sc in case_wise:\n",
    "        print(nc,n)\n",
    "#         neighbour_wise = bs_311_df[(bs_311_df['SUBJECT']==n) & (bs_311_df['CASE_TITLE']==nc)].groupby(['neighborhood'])\n",
    "#         print(nc,neighbour_wise.size())"
   ]
  },
  {
   "cell_type": "code",
   "execution_count": 5,
   "metadata": {},
   "outputs": [
    {
     "ename": "NameError",
     "evalue": "name 'df_sample_r' is not defined",
     "output_type": "error",
     "traceback": [
      "\u001b[1;31m---------------------------------------------------------------------------\u001b[0m",
      "\u001b[1;31mNameError\u001b[0m                                 Traceback (most recent call last)",
      "\u001b[1;32m<ipython-input-5-5e726a3dfd74>\u001b[0m in \u001b[0;36m<module>\u001b[1;34m\u001b[0m\n\u001b[0;32m      1\u001b[0m \u001b[1;31m# Example- County Wise\u001b[0m\u001b[1;33m\u001b[0m\u001b[1;33m\u001b[0m\u001b[0m\n\u001b[1;32m----> 2\u001b[1;33m \u001b[0mvalues\u001b[0m \u001b[1;33m=\u001b[0m \u001b[0mdf_sample_r\u001b[0m\u001b[1;33m[\u001b[0m\u001b[1;34m'TOT_POP'\u001b[0m\u001b[1;33m]\u001b[0m\u001b[1;33m.\u001b[0m\u001b[0mtolist\u001b[0m\u001b[1;33m(\u001b[0m\u001b[1;33m)\u001b[0m\u001b[1;33m\u001b[0m\u001b[0m\n\u001b[0m\u001b[0;32m      3\u001b[0m \u001b[0mfips\u001b[0m \u001b[1;33m=\u001b[0m \u001b[0mdf_sample_r\u001b[0m\u001b[1;33m[\u001b[0m\u001b[1;34m'FIPS'\u001b[0m\u001b[1;33m]\u001b[0m\u001b[1;33m.\u001b[0m\u001b[0mtolist\u001b[0m\u001b[1;33m(\u001b[0m\u001b[1;33m)\u001b[0m\u001b[1;33m\u001b[0m\u001b[0m\n\u001b[0;32m      4\u001b[0m \u001b[1;33m\u001b[0m\u001b[0m\n\u001b[0;32m      5\u001b[0m \u001b[0mendpts\u001b[0m \u001b[1;33m=\u001b[0m \u001b[0mlist\u001b[0m\u001b[1;33m(\u001b[0m\u001b[0mnp\u001b[0m\u001b[1;33m.\u001b[0m\u001b[0mmgrid\u001b[0m\u001b[1;33m[\u001b[0m\u001b[0mmin\u001b[0m\u001b[1;33m(\u001b[0m\u001b[0mvalues\u001b[0m\u001b[1;33m)\u001b[0m\u001b[1;33m:\u001b[0m\u001b[0mmax\u001b[0m\u001b[1;33m(\u001b[0m\u001b[0mvalues\u001b[0m\u001b[1;33m)\u001b[0m\u001b[1;33m:\u001b[0m\u001b[1;36m4j\u001b[0m\u001b[1;33m]\u001b[0m\u001b[1;33m)\u001b[0m\u001b[1;33m\u001b[0m\u001b[0m\n",
      "\u001b[1;31mNameError\u001b[0m: name 'df_sample_r' is not defined"
     ]
    }
   ],
   "source": [
    "from folium.plugins import MarkerCluster\n",
    "from folium import IFrame\n",
    "\n",
    "boston_cord = (42.3601,-71.0589)\n",
    "boston_map = folium.Map(location=boston_cord, zoom_start=12)\n",
    "sub_cus = MarkerCluster().add_to(boston_map)\n",
    "for sub,dat in subject_wise:\n",
    "    for _, val in dat.iterrows():\n",
    "        if datetime.strptime(val['open_dt'],'%Y-%m-%d %H:%M:%S').date() > datetime.strptime('2018-10-01','%Y-%m-%d').date():\n",
    "            \n",
    "            html = \"\"\"\n",
    "            <p> \n",
    "            Case: {} </br>\n",
    "            Start Date: {} </br>\n",
    "            End Date: {} </br>\n",
    "            Address: {}\n",
    "            </p>\"\"\".format(val['CASE_TITLE'], val['open_dt'],\n",
    "                           val['closed_dt'], val['Location'])\n",
    "            iframe = IFrame(html, width=300, height=100)\n",
    "            popup = folium.Popup(iframe, max_width=300)\n",
    "            \n",
    "            if val['CASE_STATUS'] == 'Open':\n",
    "                icon = folium.Icon(color='green', icon='record')\n",
    "            else:\n",
    "                icon = folium.Icon(color='red', icon='record')\n",
    "            \n",
    "            folium.Marker(location=[val['Latitude'], val['Longitude']],\n",
    "                          popup=popup, icon=icon).add_to(sub_cus)\n",
    "            \n",
    "    break\n",
    "boston_map"
   ]
  },
  {
   "cell_type": "code",
   "execution_count": null,
   "metadata": {},
   "outputs": [],
   "source": [
    "boston_map.save('map.html')"
   ]
  },
  {
   "cell_type": "markdown",
   "metadata": {},
   "source": [
    "## Analysis Graphs"
   ]
  },
  {
   "cell_type": "code",
   "execution_count": null,
   "metadata": {},
   "outputs": [],
   "source": []
  },
  {
   "cell_type": "code",
   "execution_count": null,
   "metadata": {},
   "outputs": [],
   "source": []
  },
  {
   "cell_type": "code",
   "execution_count": null,
   "metadata": {},
   "outputs": [],
   "source": []
  }
 ],
 "metadata": {
  "kernelspec": {
   "display_name": "Python 3",
   "language": "python",
   "name": "python3"
  },
  "language_info": {
   "codemirror_mode": {
    "name": "ipython",
    "version": 3
   },
   "file_extension": ".py",
   "mimetype": "text/x-python",
   "name": "python",
   "nbconvert_exporter": "python",
   "pygments_lexer": "ipython3",
   "version": "3.6.6"
  }
 },
 "nbformat": 4,
 "nbformat_minor": 2
}
