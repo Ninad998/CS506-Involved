{
 "cells": [
  {
   "cell_type": "markdown",
   "metadata": {},
   "source": [
    "## Research on Boston 311 Data"
   ]
  },
  {
   "cell_type": "code",
   "execution_count": 3,
   "metadata": {},
   "outputs": [],
   "source": [
    "# Packages\n",
    "import numpy as np\n",
    "import pandas as pd \n",
    "# import plotly.plotly as py\n",
    "import plotly.figure_factory as ff"
   ]
  },
  {
   "cell_type": "code",
   "execution_count": 6,
   "metadata": {},
   "outputs": [
    {
     "name": "stderr",
     "output_type": "stream",
     "text": [
      "c:\\users\\harsha~1\\downlo~1\\cs-506\\project\\cs506-~1\\venv\\lib\\site-packages\\IPython\\core\\interactiveshell.py:3020: DtypeWarning: Columns (13,14) have mixed types. Specify dtype option on import or set low_memory=False.\n",
      "  interactivity=interactivity, compiler=compiler, result=result)\n"
     ]
    }
   ],
   "source": [
    "# Reading Boston 311 data\n",
    "bs_311_df = pd.read_csv('311.csv', encoding = \"ISO-8859-1\")"
   ]
  },
  {
   "cell_type": "code",
   "execution_count": 11,
   "metadata": {},
   "outputs": [
    {
     "data": {
      "text/plain": [
       "['CASE_ENQUIRY_ID',\n",
       " 'open_dt',\n",
       " 'target_dt',\n",
       " 'closed_dt',\n",
       " 'OnTime_Status',\n",
       " 'CASE_STATUS',\n",
       " 'CLOSURE_REASON',\n",
       " 'CASE_TITLE',\n",
       " 'SUBJECT',\n",
       " 'REASON',\n",
       " 'TYPE',\n",
       " 'QUEUE',\n",
       " 'Department',\n",
       " 'SubmittedPhoto',\n",
       " 'ClosedPhoto',\n",
       " 'Location',\n",
       " 'Fire_district',\n",
       " 'pwd_district',\n",
       " 'city_council_district',\n",
       " 'police_district',\n",
       " 'neighborhood',\n",
       " 'neighborhood_services_district',\n",
       " 'ward',\n",
       " 'precinct',\n",
       " 'LOCATION_STREET_NAME',\n",
       " 'LOCATION_ZIPCODE',\n",
       " 'Latitude',\n",
       " 'Longitude',\n",
       " 'Source']"
      ]
     },
     "execution_count": 11,
     "metadata": {},
     "output_type": "execute_result"
    }
   ],
   "source": [
    "list(bs_311_df)"
   ]
  },
  {
   "cell_type": "code",
   "execution_count": 18,
   "metadata": {},
   "outputs": [
    {
     "name": "stdout",
     "output_type": "stream",
     "text": [
      "        Latitude  Longitude Department                            SUBJECT\n",
      "0        42.3594   -71.0587       BTDT  Transportation - Traffic Division\n",
      "1        42.3399   -71.1459       BTDT  Transportation - Traffic Division\n",
      "2        42.2885   -71.0612       BTDT  Transportation - Traffic Division\n",
      "3        42.3594   -71.0587       PWDx            Public Works Department\n",
      "4        42.3485   -71.0942       PWDx            Public Works Department\n",
      "5        42.3885   -71.0023       PWDx            Public Works Department\n",
      "6        42.3594   -71.0587       PWDx            Public Works Department\n",
      "7        42.2897   -71.0655        ISD              Inspectional Services\n",
      "8        42.3419   -71.0718       PWDx            Public Works Department\n",
      "12       42.3197   -71.0608       BTDT  Transportation - Traffic Division\n",
      "13       42.3071   -71.0610       BTDT  Transportation - Traffic Division\n",
      "18       42.2668   -71.1279       PARK      Parks & Recreation Department\n",
      "26       42.3420   -71.0715       PARK      Parks & Recreation Department\n",
      "53       42.2911   -71.1349       PARK      Parks & Recreation Department\n",
      "67       42.3594   -71.0587        ISD              Inspectional Services\n",
      "68       42.2719   -71.0850        ISD              Inspectional Services\n",
      "74       42.3585   -71.1369        ISD              Inspectional Services\n",
      "75       42.3104   -71.0990       INFO            Mayor's 24 Hour Hotline\n",
      "96       42.3594   -71.0587       INFO            Mayor's 24 Hour Hotline\n",
      "103      42.3653   -71.0647        ISD              Inspectional Services\n",
      "116      42.3795   -71.0680       PARK      Parks & Recreation Department\n",
      "121      42.3594   -71.0587       BTDT            Mayor's 24 Hour Hotline\n",
      "125      42.3594   -71.0587       BWSC    Boston Water & Sewer Commission\n",
      "128      42.2778   -71.1353       INFO            Mayor's 24 Hour Hotline\n",
      "137      42.3594   -71.0587       PWDx            Mayor's 24 Hour Hotline\n",
      "145      42.3439   -71.0882       INFO                     Animal Control\n",
      "148      42.3162   -71.0767       PARK      Parks & Recreation Department\n",
      "177      42.2665   -71.1253       BWSC    Boston Water & Sewer Commission\n",
      "225      42.3594   -71.0587       PROP                Property Management\n",
      "553      42.3594   -71.0587       PROP                Property Management\n",
      "...          ...        ...        ...                                ...\n",
      "393035   42.3594   -71.0587       HS_Y                          Youthline\n",
      "477502   42.3594   -71.0587       HS_Y                          Youthline\n",
      "477687   42.3594   -71.0587       DISB              Disability Department\n",
      "478307   42.3594   -71.0587       DISB              Disability Department\n",
      "479069   42.3594   -71.0587       DISB              Disability Department\n",
      "480143   42.3594   -71.0587       DISB              Disability Department\n",
      "483585   42.3594   -71.0587       HS_O                       Civil Rights\n",
      "493130   42.3594   -71.0587       HS_O                       Civil Rights\n",
      "493141   42.3594   -71.0587       HS_O                       Civil Rights\n",
      "497304   42.3594   -71.0587       HS_O                       Civil Rights\n",
      "500540   42.3594   -71.0587       HS_O                       Civil Rights\n",
      "596864   42.3594   -71.0587       HS_Y                          Youthline\n",
      "752630   42.3594   -71.0587       PWDx                    CRM Application\n",
      "812440   42.3594   -71.0587       CHT_                    City Hall Truck\n",
      "812704   42.3594   -71.0587       CHT_                    City Hall Truck\n",
      "813020   42.3594   -71.0587       CHT_                    City Hall Truck\n",
      "814413   42.3594   -71.0587       CHT_                    City Hall Truck\n",
      "814478   42.3594   -71.0587       CHT_                    City Hall Truck\n",
      "844625   42.3594   -71.0587       HS_V                           Veterans\n",
      "844659   42.3594   -71.0587       HS_V                           Veterans\n",
      "844847   42.3594   -71.0587       HS_Y                          Youthline\n",
      "845277   42.3594   -71.0587       HS_V                           Veterans\n",
      "845311   42.3594   -71.0587       HS_V                           Veterans\n",
      "845316   42.3594   -71.0587       HS_V                           Veterans\n",
      "879697   42.3594   -71.0587       HS_Y                          Youthline\n",
      "999120   42.3594   -71.0587       HS_W                 Women's Commission\n",
      "999131   42.3594   -71.0587       HS_W                 Women's Commission\n",
      "999137   42.3594   -71.0587       HS_W                 Women's Commission\n",
      "999141   42.3594   -71.0587       HS_W                 Women's Commission\n",
      "999154   42.3594   -71.0587       HS_W                 Women's Commission\n",
      "\n",
      "[86 rows x 4 columns]\n"
     ]
    }
   ],
   "source": [
    "# Subject Wise Plot of the Issues:\n",
    "\n",
    "state_scope = 'Massachusetts'\n",
    "subject_wise = bs_311_df.groupby(['SUBJECT'])['Latitude', 'Longitude','Department','SUBJECT']\n",
    "# subject_wise['text'] = 'Department: '+ subject_wise['Department']+'\\n'+'Issue Subject: '+subject_wise['SUBJECT']\n",
    "print(subject_wise.head())\n",
    "# data = [ dict(\n",
    "#         type = 'scattergeo',\n",
    "#         locationmode = 'USA-states',\n",
    "#         lon = subject_wise['Longitude'],\n",
    "#         lat = subject_wise['Latitude'],\n",
    "#         text = subject_wise['SUBJECT'],\n",
    "#         mode = 'markers',\n",
    "#         marker = dict(\n",
    "#             size = 8,\n",
    "#             opacity = 0.8,\n",
    "#             reversescale = True,\n",
    "#             autocolorscale = False,\n",
    "#             symbol = 'square',\n",
    "#             line = dict(\n",
    "#                 width=1,\n",
    "#                 color='rgba(102, 102, 102)'\n",
    "#             ),\n",
    "#             colorscale = scl,\n",
    "#             cmin = 0,\n",
    "#             color = df['cnt'],\n",
    "#             cmax = df['cnt'].max(),\n",
    "#             colorbar=dict(\n",
    "#                 title=\"Issues Subject\"\n",
    "#             )\n",
    "#         ))]\n",
    "\n",
    "# layout = dict(\n",
    "#         title = 'Boston Issues',\n",
    "#         colorbar = True,\n",
    "#         geo = dict(\n",
    "#             scope=state_scope,\n",
    "#             showland = True,\n",
    "#             landcolor = \"rgb(250, 250, 250)\",\n",
    "#             subunitcolor = \"rgb(217, 217, 217)\",\n",
    "#             countrycolor = \"rgb(217, 217, 217)\",\n",
    "#             countrywidth = 0.5,\n",
    "#             subunitwidth = 0.5\n",
    "#         ),\n",
    "#     )\n",
    "\n",
    "# fig = dict( data=data, layout=layout )\n",
    "# py.iplot( fig, validate=False)"
   ]
  },
  {
   "cell_type": "code",
   "execution_count": null,
   "metadata": {},
   "outputs": [],
   "source": [
    "# Example- County Wise\n",
    "values = df_sample_r['TOT_POP'].tolist()\n",
    "fips = df_sample_r['FIPS'].tolist()\n",
    "\n",
    "endpts = list(np.mgrid[min(values):max(values):4j])\n",
    "colorscale = [\"#030512\",\"#1d1d3b\",\"#323268\",\"#3d4b94\",\"#3e6ab0\",\n",
    "              \"#4989bc\",\"#60a7c7\",\"#85c5d3\",\"#b7e0e4\",\"#eafcfd\"]\n",
    "fig = ff.create_choropleth(\n",
    "    fips=fips, values=values, scope=state_scope, show_state_data=True,\n",
    "    colorscale=colorscale, binning_endpoints=endpts, round_legend_values=True,\n",
    "    plot_bgcolor='rgb(229,229,229)',\n",
    "    paper_bgcolor='rgb(229,229,229)',\n",
    "    legend_title='Population by County',\n",
    "    county_outline={'color': 'rgb(255,255,255)', 'width': 0.5},\n",
    "    exponent_format=True,\n",
    ")\n",
    "py.iplot(fig, filename='choropleth_florida')"
   ]
  }
 ],
 "metadata": {
  "kernelspec": {
   "display_name": "Python 3",
   "language": "python",
   "name": "python3"
  },
  "language_info": {
   "codemirror_mode": {
    "name": "ipython",
    "version": 3
   },
   "file_extension": ".py",
   "mimetype": "text/x-python",
   "name": "python",
   "nbconvert_exporter": "python",
   "pygments_lexer": "ipython3",
   "version": "3.6.0"
  }
 },
 "nbformat": 4,
 "nbformat_minor": 2
}
